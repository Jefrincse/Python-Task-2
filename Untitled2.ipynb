{
 "cells": [
  {
   "cell_type": "markdown",
   "id": "455cea96-228b-4562-9b57-0b5c36faab34",
   "metadata": {},
   "source": [
    "LIST"
   ]
  },
  {
   "cell_type": "code",
   "execution_count": 49,
   "id": "a778fe54-0211-4224-bd60-8eff93461ef4",
   "metadata": {},
   "outputs": [],
   "source": [
    "students = [\"Swetha\", \"janapriya\", \"Jefrin\", \"Brownie\"]\n",
    "marks = [25, 5, 30, 15, 18, 25]"
   ]
  },
  {
   "cell_type": "markdown",
   "id": "0e1cc3a1-2cf3-49c0-b93b-d0008a34bc28",
   "metadata": {},
   "source": [
    "Accessing List Elements"
   ]
  },
  {
   "cell_type": "code",
   "execution_count": 10,
   "id": "82402b92-4cf6-4c5c-a56e-30f89938e129",
   "metadata": {
    "scrolled": true
   },
   "outputs": [
    {
     "name": "stdout",
     "output_type": "stream",
     "text": [
      "janapriya\n",
      "30\n",
      "Brownie\n"
     ]
    }
   ],
   "source": [
    "print(students[1])\n",
    "print(marks[2])\n",
    "print(students[-1])"
   ]
  },
  {
   "cell_type": "markdown",
   "id": "09da0ee7-e25f-4a5e-8359-88878772e42d",
   "metadata": {},
   "source": [
    "Modify List "
   ]
  },
  {
   "cell_type": "code",
   "execution_count": 11,
   "id": "86bf8baf-5c29-4c9b-975f-e317377bd032",
   "metadata": {},
   "outputs": [
    {
     "name": "stdout",
     "output_type": "stream",
     "text": [
      "['Swetha', 'janapriya', 'Jefrin', 'Tommy']\n"
     ]
    }
   ],
   "source": [
    "students[3] = \"Tommy\" \n",
    "print(students)"
   ]
  },
  {
   "cell_type": "markdown",
   "id": "89529e3c-b6ba-4435-a399-c7c1e32726e8",
   "metadata": {},
   "source": [
    "Adding Elements "
   ]
  },
  {
   "cell_type": "code",
   "execution_count": 54,
   "id": "8d1f909c-5be2-49f5-b7e1-71278c6356e5",
   "metadata": {},
   "outputs": [
    {
     "name": "stdout",
     "output_type": "stream",
     "text": [
      "['Swetha', 'janapriya', 'Honeypie', 'Jefrin', 'Brownie']\n",
      "[25, 5, 30, 15, 18, 25, 12]\n"
     ]
    }
   ],
   "source": [
    "students.insert(2, \"Honeypie\")\n",
    "marks.append(12)\n",
    "print(students)\n",
    "print(marks)"
   ]
  },
  {
   "cell_type": "markdown",
   "id": "467f2c3a-9212-46b0-9031-6123f0fb7fdf",
   "metadata": {},
   "source": [
    "Removing Elements"
   ]
  },
  {
   "cell_type": "code",
   "execution_count": 13,
   "id": "65da5907-b7bf-4355-b969-7ebe253d9cfb",
   "metadata": {},
   "outputs": [
    {
     "name": "stdout",
     "output_type": "stream",
     "text": [
      "['Honeypie', 'Jefrin']\n"
     ]
    }
   ],
   "source": [
    "students.remove(\"Swetha\")\n",
    "students.pop()            \n",
    "del students[0]           \n",
    "print(students)"
   ]
  },
  {
   "cell_type": "markdown",
   "id": "ee188a6f-619e-48aa-81a7-e0cf69aa9c68",
   "metadata": {},
   "source": [
    "Looping Through the list"
   ]
  },
  {
   "cell_type": "code",
   "execution_count": 14,
   "id": "41871a54-4141-4da4-a356-8fe1e0989212",
   "metadata": {},
   "outputs": [
    {
     "name": "stdout",
     "output_type": "stream",
     "text": [
      "Honeypie\n",
      "Jefrin\n"
     ]
    }
   ],
   "source": [
    "for item in students:\n",
    "    print(item)"
   ]
  },
  {
   "cell_type": "markdown",
   "id": "aa574279-6045-4dcd-95ba-a567f349c30e",
   "metadata": {},
   "source": [
    "common list functions"
   ]
  },
  {
   "cell_type": "code",
   "execution_count": 17,
   "id": "42932946-adc3-4523-9379-96729aa52650",
   "metadata": {},
   "outputs": [
    {
     "name": "stdout",
     "output_type": "stream",
     "text": [
      "7\n",
      "30\n",
      "5\n"
     ]
    }
   ],
   "source": [
    "print(len(marks))\n",
    "print(max(marks))           \n",
    "print(min(marks))   "
   ]
  },
  {
   "cell_type": "markdown",
   "id": "a2feed41-8d67-4bb5-bfd6-576646dca540",
   "metadata": {},
   "source": [
    "Creating a tuple"
   ]
  },
  {
   "cell_type": "code",
   "execution_count": 7,
   "id": "9bd294be-957b-48bd-b87a-9b175921d4de",
   "metadata": {},
   "outputs": [
    {
     "name": "stdout",
     "output_type": "stream",
     "text": [
      "(10, 20, 30, 40)\n",
      "('apple', 'banana', 'cherry')\n"
     ]
    }
   ],
   "source": [
    "numbers = (10, 20, 30, 40)\n",
    "fruits = (\"apple\", \"banana\", \"cherry\")\n",
    "print(numbers)\n",
    "print(fruits)"
   ]
  },
  {
   "cell_type": "markdown",
   "id": "2e4b3956-5624-4b23-bf4a-85e0f7f17e16",
   "metadata": {},
   "source": [
    "Single Element Tuple"
   ]
  },
  {
   "cell_type": "code",
   "execution_count": 8,
   "id": "587f23ff-0c12-4d45-91ba-ebe423a0334f",
   "metadata": {},
   "outputs": [
    {
     "name": "stdout",
     "output_type": "stream",
     "text": [
      "<class 'tuple'>\n"
     ]
    }
   ],
   "source": [
    "single = (5,)\n",
    "print(type(single))"
   ]
  },
  {
   "cell_type": "markdown",
   "id": "c837a7c7-0d63-4eb6-9ae8-3fadc3918eba",
   "metadata": {},
   "source": [
    "Accessing Tuple elements"
   ]
  },
  {
   "cell_type": "code",
   "execution_count": 10,
   "id": "44540506-1b70-4cfa-aa82-0c26313bfd21",
   "metadata": {},
   "outputs": [
    {
     "name": "stdout",
     "output_type": "stream",
     "text": [
      "Apple\n",
      "orange\n"
     ]
    }
   ],
   "source": [
    "fruits  = (\"Apple\", \"Cherry\", \"orange\")\n",
    "print(fruits[0])\n",
    "print(fruits[-1])"
   ]
  },
  {
   "cell_type": "markdown",
   "id": "6a4c3693-f347-4bc2-9a91-f482bc55b3af",
   "metadata": {},
   "source": [
    "Slicing Tuples"
   ]
  },
  {
   "cell_type": "code",
   "execution_count": 50,
   "id": "4a6decfe-49e3-407b-8630-a101b4dd05f0",
   "metadata": {},
   "outputs": [
    {
     "name": "stdout",
     "output_type": "stream",
     "text": [
      "(10, 20, 30)\n"
     ]
    }
   ],
   "source": [
    "numbers = (10, 20, 30, 40, 50)\n",
    "print(numbers[0:3])"
   ]
  },
  {
   "cell_type": "code",
   "execution_count": 51,
   "id": "3908b950-8d4e-4e27-8279-d7f16e5b6f1f",
   "metadata": {},
   "outputs": [
    {
     "name": "stdout",
     "output_type": "stream",
     "text": [
      "(1, 2, 3, 4, 5, 6)\n"
     ]
    }
   ],
   "source": [
    "t1 = (1, 2, 3)\n",
    "t2 = (4, 5, 6)\n",
    "result = t1 + t2\n",
    "print(result)"
   ]
  },
  {
   "cell_type": "code",
   "execution_count": 52,
   "id": "11c85f81-6516-48b8-8638-86ccdc2bced3",
   "metadata": {},
   "outputs": [
    {
     "name": "stdout",
     "output_type": "stream",
     "text": [
      "(1, 2, 3, 1, 2, 3)\n"
     ]
    }
   ],
   "source": [
    "print(t1 * 2)"
   ]
  },
  {
   "cell_type": "code",
   "execution_count": 53,
   "id": "cd8b6ead-7f77-4bbf-a6af-f5d54daa8f00",
   "metadata": {},
   "outputs": [
    {
     "name": "stdout",
     "output_type": "stream",
     "text": [
      "False\n"
     ]
    }
   ],
   "source": [
    "print(5 in t1)"
   ]
  },
  {
   "cell_type": "markdown",
   "id": "42319247-664b-4f8c-826a-c400f16abf41",
   "metadata": {},
   "source": [
    "Dictionary"
   ]
  },
  {
   "cell_type": "code",
   "execution_count": 18,
   "id": "ac49a1d5-6ca6-42f1-9770-a0c60db7f42c",
   "metadata": {},
   "outputs": [
    {
     "name": "stdout",
     "output_type": "stream",
     "text": [
      "{'name': 'Jefrin', 'age': '20', 'DOB': 'Jan'}\n"
     ]
    }
   ],
   "source": [
    "dict = {\"name\": \"Jefrin\", \"age\": \"20\", \"DOB\": \"Jan\"}\n",
    "print(dict)"
   ]
  },
  {
   "cell_type": "markdown",
   "id": "5c743ae8-9be3-4feb-a3c4-c76e60c6e46e",
   "metadata": {},
   "source": [
    "Sets"
   ]
  },
  {
   "cell_type": "code",
   "execution_count": 23,
   "id": "2f388545-dabe-40b4-8e5f-a43a59bfb3e8",
   "metadata": {},
   "outputs": [
    {
     "name": "stdout",
     "output_type": "stream",
     "text": [
      "{1, 2, 3, 4, 5, 6}\n",
      "{3, 4}\n",
      "{5, 6}\n"
     ]
    }
   ],
   "source": [
    "A = {1, 2, 3, 4}\n",
    "B = {3, 4, 5, 6}\n",
    "\n",
    "print(A.union(B))\n",
    "print(A.intersection(B)) \n",
    "print(B.difference(A)) "
   ]
  },
  {
   "cell_type": "markdown",
   "id": "af74658b-6727-4cde-9132-0aa69ca0bb0f",
   "metadata": {},
   "source": [
    "Functions"
   ]
  },
  {
   "cell_type": "code",
   "execution_count": 25,
   "id": "d5775ca2-42e8-4d5f-aeab-54c309e5a08f",
   "metadata": {},
   "outputs": [
    {
     "name": "stdout",
     "output_type": "stream",
     "text": [
      "Sum: 8\n"
     ]
    }
   ],
   "source": [
    "def add(a, b):\n",
    "    return a + b\n",
    "\n",
    "result = add(5, 3)\n",
    "print(\"Sum:\", result)"
   ]
  },
  {
   "cell_type": "markdown",
   "id": "5cb12f39-8af2-4f4b-9417-2c13f1268172",
   "metadata": {},
   "source": [
    "Lambda Functions"
   ]
  },
  {
   "cell_type": "code",
   "execution_count": 26,
   "id": "f4dfb3c8-492c-43e6-a8d2-088d63713161",
   "metadata": {},
   "outputs": [
    {
     "name": "stdout",
     "output_type": "stream",
     "text": [
      "25\n"
     ]
    }
   ],
   "source": [
    "square = lambda x : x * x\n",
    "print(square(5))"
   ]
  },
  {
   "cell_type": "code",
   "execution_count": 28,
   "id": "01c2625a-408a-403f-977d-814eef2a7a70",
   "metadata": {},
   "outputs": [
    {
     "name": "stdout",
     "output_type": "stream",
     "text": [
      "5\n"
     ]
    }
   ],
   "source": [
    "add = lambda a, b : a + b\n",
    "print(add(2, 3))"
   ]
  },
  {
   "cell_type": "markdown",
   "id": "fcd6f71c-cf0d-4989-bcd9-ec21fcf1e977",
   "metadata": {},
   "source": [
    "Recursion"
   ]
  },
  {
   "cell_type": "code",
   "execution_count": 34,
   "id": "5f1638da-c32e-4859-9189-02e942804ad6",
   "metadata": {},
   "outputs": [
    {
     "name": "stdout",
     "output_type": "stream",
     "text": [
      "Factorial of 5: 3628800\n"
     ]
    }
   ],
   "source": [
    "def factorial(n):\n",
    "    if n==1:\n",
    "        return 1 \n",
    "    else:\n",
    "        return n * factorial(n - 1)\n",
    "print(\"Factorial of 5:\", factorial(10))"
   ]
  },
  {
   "cell_type": "markdown",
   "id": "f2591def-1480-435c-9d48-48a3c8d934b4",
   "metadata": {},
   "source": [
    "Fibonacci Series Using Recursion"
   ]
  },
  {
   "cell_type": "code",
   "execution_count": 47,
   "id": "651827b3-218a-445e-95d3-1883debd13d7",
   "metadata": {},
   "outputs": [
    {
     "name": "stdout",
     "output_type": "stream",
     "text": [
      "0 1 1 2 3 5 "
     ]
    }
   ],
   "source": [
    "def fibonacci(n):\n",
    "    if n <= 1:\n",
    "\n",
    "        return n\n",
    "    else:\n",
    "        return fibonacci(n-1) + fibonacci(n - 2)\n",
    "\n",
    "for i in range(6):\n",
    "    print(fibonacci(i), end = \" \")"
   ]
  },
  {
   "cell_type": "markdown",
   "id": "986b1547-da68-4f1b-aa50-5c7fd14974f3",
   "metadata": {},
   "source": [
    "CREATE A LIST IN SQUARES"
   ]
  },
  {
   "cell_type": "code",
   "execution_count": 43,
   "id": "43e1becc-91c6-4d6d-8148-d8f0c64400ac",
   "metadata": {},
   "outputs": [
    {
     "name": "stdout",
     "output_type": "stream",
     "text": [
      "[1, 4, 9, 16, 25]\n"
     ]
    }
   ],
   "source": [
    "squares = [x ** 2 for x in range(1, 6)]\n",
    "print(squares)\n",
    "           "
   ]
  },
  {
   "cell_type": "markdown",
   "id": "17bcf52a-bb92-44c0-bda9-7563a02ab6ef",
   "metadata": {},
   "source": [
    "FILTER EVEN NUMBERS "
   ]
  },
  {
   "cell_type": "code",
   "execution_count": 44,
   "id": "63e65a68-2d3a-458e-bb48-5d4c234e1fe2",
   "metadata": {},
   "outputs": [
    {
     "name": "stdout",
     "output_type": "stream",
     "text": [
      "[0, 2, 4, 6, 8]\n"
     ]
    }
   ],
   "source": [
    "even = [x for x in range(10) if x % 2 == 0]\n",
    "print(even)"
   ]
  },
  {
   "cell_type": "markdown",
   "id": "0633b673-e18e-4a04-9d48-b1388a1d35ea",
   "metadata": {},
   "source": [
    "CONVERT UPPER CASE"
   ]
  },
  {
   "cell_type": "code",
   "execution_count": 46,
   "id": "36700477-0870-4a70-a53a-a8a6e9544737",
   "metadata": {},
   "outputs": [
    {
     "name": "stdout",
     "output_type": "stream",
     "text": [
      "['Apple', 'Cherry', 'Brownie']\n",
      "['APPLE', 'CHERRY', 'BROWNIE']\n"
     ]
    }
   ],
   "source": [
    "words = [\"Apple\", \"Cherry\", \"Brownie\"]\n",
    "upper_word = [word.upper() for word in words]\n",
    "print(words)\n",
    "print(upper_words)"
   ]
  },
  {
   "cell_type": "markdown",
   "id": "3b86f263-01a5-4492-9c4b-10b34aa40f27",
   "metadata": {},
   "source": [
    "CLIENT PROJECT in DATA CLEANING"
   ]
  },
  {
   "cell_type": "code",
   "execution_count": 57,
   "id": "5ac11a8f-0b5d-4880-8ec0-bd2ca1772dab",
   "metadata": {},
   "outputs": [
    {
     "name": "stdout",
     "output_type": "stream",
     "text": [
      "Original Data:\n",
      "{'id': 1, 'name': 'Alice', 'age': 25}\n",
      "{'id': 2, 'name': 'Bob', 'age': 30}\n",
      "{'id': 3, 'name': 'Charlie', 'age': 22}\n",
      "{'id': 2, 'name': 'Bob', 'age': 30}\n",
      "{'id': 4, 'name': 'David', 'age': 19}\n",
      "{'id': 5, 'name': 'Eve', 'age': 35}\n",
      "\n",
      "Cleaned and filtered Data:\n",
      "{'id': 1, 'name': 'Alice', 'age': 25}\n",
      "{'id': 2, 'name': 'Bob', 'age': 30}\n",
      "{'id': 3, 'name': 'Charlie', 'age': 22}\n",
      "{'id': 5, 'name': 'Eve', 'age': 35}\n"
     ]
    }
   ],
   "source": [
    "data = [\n",
    "    {\"id\": 1, \"name\": \"Alice\", \"age\": 25},\n",
    "    {\"id\": 2, \"name\": \"Bob\", \"age\": 30},\n",
    "    {\"id\": 3, \"name\": \"Charlie\", \"age\": 22},\n",
    "    {\"id\": 2, \"name\": \"Bob\", \"age\": 30},  # Duplicate\n",
    "    {\"id\": 4, \"name\": \"David\", \"age\": 19},\n",
    "    {\"id\": 5, \"name\": \"Eve\", \"age\": 35}\n",
    "]\n",
    "print(\"Original Data:\")\n",
    "for record in data:\n",
    "    print(record)\n",
    "    \n",
    "cleaned_data = []\n",
    "for item in data:\n",
    "    if item not in cleaned_data:\n",
    "        cleaned_data.append(item)\n",
    "\n",
    "filtered_data = [person for person in cleaned_data if person[\"age\"] > 21]\n",
    "\n",
    "print(\"\\nCleaned and filtered Data:\")\n",
    "for record in filtered_data:\n",
    "    print(record)\n"
   ]
  },
  {
   "cell_type": "code",
   "execution_count": null,
   "id": "3c627c11-1e0b-493b-b2a3-a4db02a16e05",
   "metadata": {},
   "outputs": [],
   "source": []
  }
 ],
 "metadata": {
  "kernelspec": {
   "display_name": "Python 3 (ipykernel)",
   "language": "python",
   "name": "python3"
  },
  "language_info": {
   "codemirror_mode": {
    "name": "ipython",
    "version": 3
   },
   "file_extension": ".py",
   "mimetype": "text/x-python",
   "name": "python",
   "nbconvert_exporter": "python",
   "pygments_lexer": "ipython3",
   "version": "3.13.5"
  }
 },
 "nbformat": 4,
 "nbformat_minor": 5
}
